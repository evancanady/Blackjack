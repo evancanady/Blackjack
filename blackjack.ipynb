{
 "cells": [
  {
   "cell_type": "code",
   "execution_count": 1,
   "metadata": {},
   "outputs": [],
   "source": [
    "import pandas as pd\n",
    "import pickle\n",
    "import blackjack"
   ]
  },
  {
   "cell_type": "code",
   "execution_count": 2,
   "metadata": {},
   "outputs": [
    {
     "name": "stdout",
     "output_type": "stream",
     "text": [
      "Done!\n"
     ]
    }
   ],
   "source": [
    "# run the Blackjack simulation\n",
    "deck_count = 2\n",
    "num_players = 3\n",
    "num_hands_per_tourney = 250\n",
    "num_tourneys = 1\n",
    "cut_cards = True\n",
    "dealer_hit_to = 17\n",
    "\n",
    "blackjack.game(deck_count, num_players, num_hands_per_tourney, num_tourneys, cut_cards, dealer_hit_to)"
   ]
  },
  {
   "cell_type": "code",
   "execution_count": 3,
   "metadata": {},
   "outputs": [],
   "source": [
    "# import the pickled dataframe\n",
    "infile = open('blackjack.pickle','rb')\n",
    "df = pickle.load(infile)\n",
    "infile.close()"
   ]
  },
  {
   "cell_type": "code",
   "execution_count": 4,
   "metadata": {},
   "outputs": [
    {
     "data": {
      "text/html": [
       "<div>\n",
       "<style scoped>\n",
       "    .dataframe tbody tr th:only-of-type {\n",
       "        vertical-align: middle;\n",
       "    }\n",
       "\n",
       "    .dataframe tbody tr th {\n",
       "        vertical-align: top;\n",
       "    }\n",
       "\n",
       "    .dataframe thead th {\n",
       "        text-align: right;\n",
       "    }\n",
       "</style>\n",
       "<table border=\"1\" class=\"dataframe\">\n",
       "  <thead>\n",
       "    <tr style=\"text-align: right;\">\n",
       "      <th></th>\n",
       "      <th>name</th>\n",
       "      <th>total</th>\n",
       "      <th>result</th>\n",
       "      <th>bust</th>\n",
       "      <th>cards</th>\n",
       "      <th>round</th>\n",
       "      <th>hand</th>\n",
       "    </tr>\n",
       "  </thead>\n",
       "  <tbody>\n",
       "    <tr>\n",
       "      <td>0</td>\n",
       "      <td>Player1</td>\n",
       "      <td>19</td>\n",
       "      <td>lose</td>\n",
       "      <td>False</td>\n",
       "      <td>[3, 6, J]</td>\n",
       "      <td>0</td>\n",
       "      <td>0</td>\n",
       "    </tr>\n",
       "    <tr>\n",
       "      <td>1</td>\n",
       "      <td>Player2</td>\n",
       "      <td>26</td>\n",
       "      <td>lose</td>\n",
       "      <td>True</td>\n",
       "      <td>[10, 3, 3, Q]</td>\n",
       "      <td>0</td>\n",
       "      <td>0</td>\n",
       "    </tr>\n",
       "    <tr>\n",
       "      <td>2</td>\n",
       "      <td>Player3</td>\n",
       "      <td>21</td>\n",
       "      <td>push</td>\n",
       "      <td>False</td>\n",
       "      <td>[8, 3, K]</td>\n",
       "      <td>0</td>\n",
       "      <td>0</td>\n",
       "    </tr>\n",
       "    <tr>\n",
       "      <td>3</td>\n",
       "      <td>dealer</td>\n",
       "      <td>21</td>\n",
       "      <td>None</td>\n",
       "      <td>False</td>\n",
       "      <td>[Q, A]</td>\n",
       "      <td>0</td>\n",
       "      <td>0</td>\n",
       "    </tr>\n",
       "    <tr>\n",
       "      <td>4</td>\n",
       "      <td>Player1</td>\n",
       "      <td>21</td>\n",
       "      <td>win</td>\n",
       "      <td>False</td>\n",
       "      <td>[6, K, 5]</td>\n",
       "      <td>1</td>\n",
       "      <td>0</td>\n",
       "    </tr>\n",
       "  </tbody>\n",
       "</table>\n",
       "</div>"
      ],
      "text/plain": [
       "      name total result   bust          cards  round  hand\n",
       "0  Player1    19   lose  False      [3, 6, J]      0     0\n",
       "1  Player2    26   lose   True  [10, 3, 3, Q]      0     0\n",
       "2  Player3    21   push  False      [8, 3, K]      0     0\n",
       "3   dealer    21   None  False         [Q, A]      0     0\n",
       "4  Player1    21    win  False      [6, K, 5]      1     0"
      ]
     },
     "execution_count": 4,
     "metadata": {},
     "output_type": "execute_result"
    }
   ],
   "source": [
    "df.head()"
   ]
  },
  {
   "cell_type": "code",
   "execution_count": 5,
   "metadata": {},
   "outputs": [
    {
     "name": "stdout",
     "output_type": "stream",
     "text": [
      "<class 'pandas.core.frame.DataFrame'>\n",
      "RangeIndex: 1000 entries, 0 to 999\n",
      "Data columns (total 7 columns):\n",
      "name      1000 non-null object\n",
      "total     1000 non-null object\n",
      "result    750 non-null object\n",
      "bust      1000 non-null object\n",
      "cards     1000 non-null object\n",
      "round     1000 non-null int64\n",
      "hand      1000 non-null int64\n",
      "dtypes: int64(2), object(5)\n",
      "memory usage: 54.8+ KB\n"
     ]
    }
   ],
   "source": [
    "df.info()"
   ]
  },
  {
   "cell_type": "code",
   "execution_count": null,
   "metadata": {},
   "outputs": [],
   "source": []
  }
 ],
 "metadata": {
  "kernelspec": {
   "display_name": "Python 3",
   "language": "python",
   "name": "python3"
  },
  "language_info": {
   "codemirror_mode": {
    "name": "ipython",
    "version": 3
   },
   "file_extension": ".py",
   "mimetype": "text/x-python",
   "name": "python",
   "nbconvert_exporter": "python",
   "pygments_lexer": "ipython3",
   "version": "3.7.4"
  }
 },
 "nbformat": 4,
 "nbformat_minor": 2
}
